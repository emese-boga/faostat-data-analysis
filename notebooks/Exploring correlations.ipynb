{
 "cells": [
  {
   "cell_type": "markdown",
   "id": "12b52168-140d-49ea-b685-1c7be8b2ee0f",
   "metadata": {},
   "source": [
    "## Exploring correlations between weather and crop yield"
   ]
  },
  {
   "cell_type": "code",
   "execution_count": 1,
   "id": "0a7888b1-4425-4de9-9797-23ee6c270f8a",
   "metadata": {},
   "outputs": [],
   "source": [
    "import urllib.request\n",
    "import zipfile\n",
    "import os\n",
    "\n",
    "from pyspark.sql import SparkSession\n",
    "from pyspark.sql.functions import monotonically_increasing_id, regexp_replace, col\n",
    "from meteostat import Stations"
   ]
  },
  {
   "cell_type": "code",
   "execution_count": 2,
   "id": "eb4a28d0-010d-458a-be1f-1cd93ff764c7",
   "metadata": {},
   "outputs": [],
   "source": [
    "spark = SparkSession.builder.appName(\"FAOSTAT Data Correlations\").getOrCreate()"
   ]
  },
  {
   "cell_type": "code",
   "execution_count": 3,
   "id": "77c5ace9-bb27-4e86-b829-0f06eb7ce1b1",
   "metadata": {},
   "outputs": [
    {
     "data": {
      "text/plain": [
       "('Production_Crops_Livestock_E_All_Data.zip',\n",
       " <http.client.HTTPMessage at 0x1f874ad0bf0>)"
      ]
     },
     "execution_count": 3,
     "metadata": {},
     "output_type": "execute_result"
    }
   ],
   "source": [
    "file_url = \"https://bulks-faostat.fao.org/production/Production_Crops_Livestock_E_All_Data.zip\"\n",
    "local_zip_path = \"Production_Crops_Livestock_E_All_Data.zip\"\n",
    "urllib.request.urlretrieve(file_url, local_zip_path)"
   ]
  },
  {
   "cell_type": "code",
   "execution_count": 4,
   "id": "5eb11aec-a696-44f1-b1ad-39f498ebdf60",
   "metadata": {},
   "outputs": [],
   "source": [
    "with zipfile.ZipFile(local_zip_path, 'r') as zip_ref:\n",
    "    zip_ref.extractall(\"/tmp/data\")"
   ]
  },
  {
   "cell_type": "code",
   "execution_count": 5,
   "id": "7a25fb5a-0358-446e-8028-95ac00b66144",
   "metadata": {},
   "outputs": [],
   "source": [
    "csv_file_path = \"/tmp/data/Production_Crops_Livestock_E_All_Data.csv\"\n",
    "df = spark.read.csv(csv_file_path, inferSchema=True, header=True)"
   ]
  },
  {
   "cell_type": "markdown",
   "id": "5b07993b-6082-471c-b2b2-9b62d3083bb1",
   "metadata": {},
   "source": [
    "### Explore one country\n",
    "\n",
    "- First let's see the weather/crop yield for one country, in this case **Mexico**\n",
    "- I am going to transform the data in a way that we have one **Year** column along with **Yield**, **Year Flag** and **Year Note**\n",
    "- Although it will significantly increase the dataframe size, I believe it will be easier to use alongside other datasets, since we will be able to group by the Year column as well, rather than having to search by each year column separately"
   ]
  },
  {
   "cell_type": "code",
   "execution_count": 6,
   "id": "4c6d0879-7063-42cb-9f74-47f80d4ce109",
   "metadata": {},
   "outputs": [],
   "source": [
    "df = df.withColumn(\"Id\", monotonically_increasing_id())"
   ]
  },
  {
   "cell_type": "code",
   "execution_count": 7,
   "id": "bb523025-abeb-4b5b-b72a-5cd6ce1f02d9",
   "metadata": {},
   "outputs": [],
   "source": [
    "columns = ['Id', 'Area Code', 'Area Code (M49)', 'Area', 'Item Code', 'Item Code (CPC)', \n",
    "           'Item', 'Element Code', 'Element', 'Unit']"
   ]
  },
  {
   "cell_type": "code",
   "execution_count": 8,
   "id": "16c5169a-96c2-4040-aa60-86ab34246298",
   "metadata": {},
   "outputs": [],
   "source": [
    "year_columns = [col for col in df.columns if col.startswith('Y') and not col.endswith(('F', 'N'))]\n",
    "flag_columns = [col for col in df.columns if col.endswith('F')]\n",
    "note_columns = [col for col in df.columns if col.endswith('N')]"
   ]
  },
  {
   "cell_type": "code",
   "execution_count": 9,
   "id": "cad20836-1e9a-4ecd-a26e-33a972aef638",
   "metadata": {},
   "outputs": [
    {
     "name": "stdout",
     "output_type": "stream",
     "text": [
      "+---------+---------------+-----------+---------+---------------+-----------------+------------+--------------+----+---+------+----+\n",
      "|Area Code|Area Code (M49)|       Area|Item Code|Item Code (CPC)|             Item|Element Code|       Element|Unit| Id| Yield|Year|\n",
      "+---------+---------------+-----------+---------+---------------+-----------------+------------+--------------+----+---+------+----+\n",
      "|        2|           '004|Afghanistan|      221|         '01371|Almonds, in shell|        5312|Area harvested|  ha|  0|   0.0|1961|\n",
      "|        2|           '004|Afghanistan|      221|         '01371|Almonds, in shell|        5312|Area harvested|  ha|  0|   0.0|1962|\n",
      "|        2|           '004|Afghanistan|      221|         '01371|Almonds, in shell|        5312|Area harvested|  ha|  0|   0.0|1963|\n",
      "|        2|           '004|Afghanistan|      221|         '01371|Almonds, in shell|        5312|Area harvested|  ha|  0|   0.0|1964|\n",
      "|        2|           '004|Afghanistan|      221|         '01371|Almonds, in shell|        5312|Area harvested|  ha|  0|   0.0|1965|\n",
      "|        2|           '004|Afghanistan|      221|         '01371|Almonds, in shell|        5312|Area harvested|  ha|  0|   0.0|1966|\n",
      "|        2|           '004|Afghanistan|      221|         '01371|Almonds, in shell|        5312|Area harvested|  ha|  0|   0.0|1967|\n",
      "|        2|           '004|Afghanistan|      221|         '01371|Almonds, in shell|        5312|Area harvested|  ha|  0|   0.0|1968|\n",
      "|        2|           '004|Afghanistan|      221|         '01371|Almonds, in shell|        5312|Area harvested|  ha|  0|   0.0|1969|\n",
      "|        2|           '004|Afghanistan|      221|         '01371|Almonds, in shell|        5312|Area harvested|  ha|  0|   0.0|1970|\n",
      "|        2|           '004|Afghanistan|      221|         '01371|Almonds, in shell|        5312|Area harvested|  ha|  0|   0.0|1971|\n",
      "|        2|           '004|Afghanistan|      221|         '01371|Almonds, in shell|        5312|Area harvested|  ha|  0|   0.0|1972|\n",
      "|        2|           '004|Afghanistan|      221|         '01371|Almonds, in shell|        5312|Area harvested|  ha|  0|   0.0|1973|\n",
      "|        2|           '004|Afghanistan|      221|         '01371|Almonds, in shell|        5312|Area harvested|  ha|  0|   0.0|1974|\n",
      "|        2|           '004|Afghanistan|      221|         '01371|Almonds, in shell|        5312|Area harvested|  ha|  0|   0.0|1975|\n",
      "|        2|           '004|Afghanistan|      221|         '01371|Almonds, in shell|        5312|Area harvested|  ha|  0|5900.0|1976|\n",
      "|        2|           '004|Afghanistan|      221|         '01371|Almonds, in shell|        5312|Area harvested|  ha|  0|6000.0|1977|\n",
      "|        2|           '004|Afghanistan|      221|         '01371|Almonds, in shell|        5312|Area harvested|  ha|  0|6000.0|1978|\n",
      "|        2|           '004|Afghanistan|      221|         '01371|Almonds, in shell|        5312|Area harvested|  ha|  0|6000.0|1979|\n",
      "|        2|           '004|Afghanistan|      221|         '01371|Almonds, in shell|        5312|Area harvested|  ha|  0|5800.0|1980|\n",
      "+---------+---------------+-----------+---------+---------------+-----------------+------------+--------------+----+---+------+----+\n",
      "only showing top 20 rows\n",
      "\n"
     ]
    }
   ],
   "source": [
    "df_transform_year = df.melt(\n",
    "    ids=[col for col in df.columns if col not in year_columns + list(flag_columns) + list(note_columns)], \n",
    "    values=year_columns,\n",
    "    variableColumnName=\"Year\", \n",
    "    valueColumnName=\"Yield\"\n",
    ")\n",
    "df_transform_year = df_transform_year.withColumn(\"Final Year\", regexp_replace(col(\"Year\"), \"Y\", \"\").cast(\"int\"))\n",
    "df_transform_year = df_transform_year.drop(\"Year\").withColumnRenamed(\"Final Year\", \"Year\")\n",
    "df_transform_year.show()"
   ]
  },
  {
   "cell_type": "code",
   "execution_count": 10,
   "id": "f53fc370-034e-4cc3-9a6e-26df92c41518",
   "metadata": {},
   "outputs": [
    {
     "name": "stdout",
     "output_type": "stream",
     "text": [
      "+---------+---------------+-----------+---------+---------------+-----------------+------------+--------------+----+---+---------+----+\n",
      "|Area Code|Area Code (M49)|       Area|Item Code|Item Code (CPC)|             Item|Element Code|       Element|Unit| Id|Year Flag|Year|\n",
      "+---------+---------------+-----------+---------+---------------+-----------------+------------+--------------+----+---+---------+----+\n",
      "|        2|           '004|Afghanistan|      221|         '01371|Almonds, in shell|        5312|Area harvested|  ha|  0|        A|1961|\n",
      "|        2|           '004|Afghanistan|      221|         '01371|Almonds, in shell|        5312|Area harvested|  ha|  0|        A|1962|\n",
      "|        2|           '004|Afghanistan|      221|         '01371|Almonds, in shell|        5312|Area harvested|  ha|  0|        A|1963|\n",
      "|        2|           '004|Afghanistan|      221|         '01371|Almonds, in shell|        5312|Area harvested|  ha|  0|        A|1964|\n",
      "|        2|           '004|Afghanistan|      221|         '01371|Almonds, in shell|        5312|Area harvested|  ha|  0|        A|1965|\n",
      "|        2|           '004|Afghanistan|      221|         '01371|Almonds, in shell|        5312|Area harvested|  ha|  0|        A|1966|\n",
      "|        2|           '004|Afghanistan|      221|         '01371|Almonds, in shell|        5312|Area harvested|  ha|  0|        A|1967|\n",
      "|        2|           '004|Afghanistan|      221|         '01371|Almonds, in shell|        5312|Area harvested|  ha|  0|        A|1968|\n",
      "|        2|           '004|Afghanistan|      221|         '01371|Almonds, in shell|        5312|Area harvested|  ha|  0|        A|1969|\n",
      "|        2|           '004|Afghanistan|      221|         '01371|Almonds, in shell|        5312|Area harvested|  ha|  0|        A|1970|\n",
      "|        2|           '004|Afghanistan|      221|         '01371|Almonds, in shell|        5312|Area harvested|  ha|  0|        A|1971|\n",
      "|        2|           '004|Afghanistan|      221|         '01371|Almonds, in shell|        5312|Area harvested|  ha|  0|        A|1972|\n",
      "|        2|           '004|Afghanistan|      221|         '01371|Almonds, in shell|        5312|Area harvested|  ha|  0|        A|1973|\n",
      "|        2|           '004|Afghanistan|      221|         '01371|Almonds, in shell|        5312|Area harvested|  ha|  0|        A|1974|\n",
      "|        2|           '004|Afghanistan|      221|         '01371|Almonds, in shell|        5312|Area harvested|  ha|  0|        E|1975|\n",
      "|        2|           '004|Afghanistan|      221|         '01371|Almonds, in shell|        5312|Area harvested|  ha|  0|        E|1976|\n",
      "|        2|           '004|Afghanistan|      221|         '01371|Almonds, in shell|        5312|Area harvested|  ha|  0|        E|1977|\n",
      "|        2|           '004|Afghanistan|      221|         '01371|Almonds, in shell|        5312|Area harvested|  ha|  0|        E|1978|\n",
      "|        2|           '004|Afghanistan|      221|         '01371|Almonds, in shell|        5312|Area harvested|  ha|  0|        E|1979|\n",
      "|        2|           '004|Afghanistan|      221|         '01371|Almonds, in shell|        5312|Area harvested|  ha|  0|        E|1980|\n",
      "+---------+---------------+-----------+---------+---------------+-----------------+------------+--------------+----+---+---------+----+\n",
      "only showing top 20 rows\n",
      "\n"
     ]
    }
   ],
   "source": [
    "df_transform_flag = df.melt(\n",
    "    ids=[col for col in df.columns if col not in year_columns + flag_columns + note_columns],\n",
    "    values=flag_columns,\n",
    "    variableColumnName=\"Year\",\n",
    "    valueColumnName=\"Year Flag\"\n",
    ")\n",
    "df_transform_flag = df_transform_flag.withColumn(\"Final Year\", regexp_replace(col(\"Year\"), \"Y|F\", \"\").cast(\"int\"))\n",
    "df_transform_flag = df_transform_flag.drop(\"Year\").withColumnRenamed(\"Final Year\", \"Year\")\n",
    "df_transform_flag.show()"
   ]
  },
  {
   "cell_type": "code",
   "execution_count": 11,
   "id": "9091309e-fd83-4c2d-bc90-d1f30c2ac8b8",
   "metadata": {},
   "outputs": [
    {
     "name": "stdout",
     "output_type": "stream",
     "text": [
      "+---------+---------------+-----------+---------+---------------+-----------------+------------+--------------+----+---+---------+----+\n",
      "|Area Code|Area Code (M49)|       Area|Item Code|Item Code (CPC)|             Item|Element Code|       Element|Unit| Id|Year Note|Year|\n",
      "+---------+---------------+-----------+---------+---------------+-----------------+------------+--------------+----+---+---------+----+\n",
      "|        2|           '004|Afghanistan|      221|         '01371|Almonds, in shell|        5312|Area harvested|  ha|  0|     NULL|1961|\n",
      "|        2|           '004|Afghanistan|      221|         '01371|Almonds, in shell|        5312|Area harvested|  ha|  0|     NULL|1962|\n",
      "|        2|           '004|Afghanistan|      221|         '01371|Almonds, in shell|        5312|Area harvested|  ha|  0|     NULL|1963|\n",
      "|        2|           '004|Afghanistan|      221|         '01371|Almonds, in shell|        5312|Area harvested|  ha|  0|     NULL|1964|\n",
      "|        2|           '004|Afghanistan|      221|         '01371|Almonds, in shell|        5312|Area harvested|  ha|  0|     NULL|1965|\n",
      "|        2|           '004|Afghanistan|      221|         '01371|Almonds, in shell|        5312|Area harvested|  ha|  0|     NULL|1966|\n",
      "|        2|           '004|Afghanistan|      221|         '01371|Almonds, in shell|        5312|Area harvested|  ha|  0|     NULL|1967|\n",
      "|        2|           '004|Afghanistan|      221|         '01371|Almonds, in shell|        5312|Area harvested|  ha|  0|     NULL|1968|\n",
      "|        2|           '004|Afghanistan|      221|         '01371|Almonds, in shell|        5312|Area harvested|  ha|  0|     NULL|1969|\n",
      "|        2|           '004|Afghanistan|      221|         '01371|Almonds, in shell|        5312|Area harvested|  ha|  0|     NULL|1970|\n",
      "|        2|           '004|Afghanistan|      221|         '01371|Almonds, in shell|        5312|Area harvested|  ha|  0|     NULL|1971|\n",
      "|        2|           '004|Afghanistan|      221|         '01371|Almonds, in shell|        5312|Area harvested|  ha|  0|     NULL|1972|\n",
      "|        2|           '004|Afghanistan|      221|         '01371|Almonds, in shell|        5312|Area harvested|  ha|  0|     NULL|1973|\n",
      "|        2|           '004|Afghanistan|      221|         '01371|Almonds, in shell|        5312|Area harvested|  ha|  0|     NULL|1974|\n",
      "|        2|           '004|Afghanistan|      221|         '01371|Almonds, in shell|        5312|Area harvested|  ha|  0|     NULL|1975|\n",
      "|        2|           '004|Afghanistan|      221|         '01371|Almonds, in shell|        5312|Area harvested|  ha|  0|     NULL|1976|\n",
      "|        2|           '004|Afghanistan|      221|         '01371|Almonds, in shell|        5312|Area harvested|  ha|  0|     NULL|1977|\n",
      "|        2|           '004|Afghanistan|      221|         '01371|Almonds, in shell|        5312|Area harvested|  ha|  0|     NULL|1978|\n",
      "|        2|           '004|Afghanistan|      221|         '01371|Almonds, in shell|        5312|Area harvested|  ha|  0|     NULL|1979|\n",
      "|        2|           '004|Afghanistan|      221|         '01371|Almonds, in shell|        5312|Area harvested|  ha|  0|     NULL|1980|\n",
      "+---------+---------------+-----------+---------+---------------+-----------------+------------+--------------+----+---+---------+----+\n",
      "only showing top 20 rows\n",
      "\n"
     ]
    }
   ],
   "source": [
    "df_transform_note = df.melt(\n",
    "    ids=[col for col in df.columns if col not in year_columns + flag_columns + note_columns],\n",
    "    values=note_columns,\n",
    "    variableColumnName=\"Year\",\n",
    "    valueColumnName=\"Year Note\"\n",
    ")\n",
    "df_transform_note = df_transform_note.withColumn(\"Final Year\", regexp_replace(col(\"Year\"), \"Y|N\", \"\").cast(\"int\"))\n",
    "df_transform_note = df_transform_note.drop(\"Year\").withColumnRenamed(\"Final Year\", \"Year\")\n",
    "df_transform_note.show()"
   ]
  },
  {
   "cell_type": "code",
   "execution_count": 12,
   "id": "fb2c7ff7-48ab-475e-96d1-20be997480fe",
   "metadata": {},
   "outputs": [
    {
     "data": {
      "text/plain": [
       "['Id',\n",
       " 'Area Code',\n",
       " 'Area Code (M49)',\n",
       " 'Area',\n",
       " 'Item Code',\n",
       " 'Item Code (CPC)',\n",
       " 'Item',\n",
       " 'Element Code',\n",
       " 'Element',\n",
       " 'Unit',\n",
       " 'Year',\n",
       " 'Yield',\n",
       " 'Year Flag',\n",
       " 'Year Note']"
      ]
     },
     "execution_count": 12,
     "metadata": {},
     "output_type": "execute_result"
    }
   ],
   "source": [
    "df_combined = df_transform_year \\\n",
    "    .join(df_transform_flag, on=[\n",
    "        \"Id\", \"Area Code\", \"Area Code (M49)\", \"Area\", \"Item Code\", \"Item Code (CPC)\", \"Item\", \n",
    "        \"Element Code\", \"Element\", \"Unit\", \"Year\"], how=\"left\") \\\n",
    "    .join(df_transform_note, on=[\n",
    "        \"Id\", \"Area Code\", \"Area Code (M49)\", \"Area\", \"Item Code\", \"Item Code (CPC)\", \"Item\", \n",
    "        \"Element Code\", \"Element\", \"Unit\", \"Year\"], how=\"left\")\n",
    "\n",
    "df_combined.columns"
   ]
  },
  {
   "cell_type": "code",
   "execution_count": null,
   "id": "62242736-e3a1-4c37-b5dd-bbbbbe97ea8e",
   "metadata": {},
   "outputs": [],
   "source": []
  }
 ],
 "metadata": {
  "kernelspec": {
   "display_name": "Python 3 (ipykernel)",
   "language": "python",
   "name": "python3"
  },
  "language_info": {
   "codemirror_mode": {
    "name": "ipython",
    "version": 3
   },
   "file_extension": ".py",
   "mimetype": "text/x-python",
   "name": "python",
   "nbconvert_exporter": "python",
   "pygments_lexer": "ipython3",
   "version": "3.12.0"
  }
 },
 "nbformat": 4,
 "nbformat_minor": 5
}
