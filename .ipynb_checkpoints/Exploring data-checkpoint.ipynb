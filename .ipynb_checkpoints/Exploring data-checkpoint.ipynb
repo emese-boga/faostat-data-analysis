{
 "cells": [
  {
   "cell_type": "markdown",
   "id": "a4c36233-e25e-409d-b67f-411014fa2877",
   "metadata": {},
   "source": [
    "## Exploring the data\n",
    "\n",
    "- Source: **Food and Agriculture Organization of the United Nations** [FAOSTAT](https://www.fao.org/faostat/en/#data/QCL)\n",
    "- This is a time series data that consists of crop and livestock statistics"
   ]
  },
  {
   "cell_type": "code",
   "execution_count": 1,
   "id": "e9311e3f-1cee-4992-897d-c17cb14628b0",
   "metadata": {},
   "outputs": [],
   "source": [
    "from pyspark.sql import SparkSession\n",
    "import urllib.request\n",
    "import zipfile\n",
    "import os"
   ]
  },
  {
   "cell_type": "code",
   "execution_count": 2,
   "id": "3d57b803-68e8-432f-b2d7-13cda876182c",
   "metadata": {},
   "outputs": [
    {
     "name": "stderr",
     "output_type": "stream",
     "text": [
      "Setting default log level to \"WARN\".\n",
      "To adjust logging level use sc.setLogLevel(newLevel). For SparkR, use setLogLevel(newLevel).\n",
      "24/10/31 15:41:41 WARN NativeCodeLoader: Unable to load native-hadoop library for your platform... using builtin-java classes where applicable\n"
     ]
    }
   ],
   "source": [
    "spark = SparkSession.builder.appName(\"FAOSTAT Data\").getOrCreate()"
   ]
  },
  {
   "cell_type": "markdown",
   "id": "d160cfe3-a0dd-4f25-969b-c30f1249a9b1",
   "metadata": {},
   "source": [
    "## Reading data\n",
    "\n",
    "- First we are going to read the data from the source URL and we are going to extract it "
   ]
  },
  {
   "cell_type": "code",
   "execution_count": 3,
   "id": "823ecd50-6703-43b0-9905-b89af8d957f1",
   "metadata": {},
   "outputs": [
    {
     "data": {
      "text/plain": [
       "('/tmp/Production_Crops_Livestock_E_All_Data.zip',\n",
       " <http.client.HTTPMessage at 0x7f0c4a1058d0>)"
      ]
     },
     "execution_count": 3,
     "metadata": {},
     "output_type": "execute_result"
    }
   ],
   "source": [
    "file_url = \"https://bulks-faostat.fao.org/production/Production_Crops_Livestock_E_All_Data.zip\"\n",
    "local_zip_path = \"/tmp/Production_Crops_Livestock_E_All_Data.zip\"\n",
    "urllib.request.urlretrieve(file_url, local_zip_path)"
   ]
  },
  {
   "cell_type": "code",
   "execution_count": 4,
   "id": "48bbc539-e7fb-45b1-95c3-7d778dec2882",
   "metadata": {},
   "outputs": [],
   "source": [
    "with zipfile.ZipFile(local_zip_path, 'r') as zip_ref:\n",
    "    zip_ref.extractall(\"/tmp/data\")"
   ]
  },
  {
   "cell_type": "code",
   "execution_count": 5,
   "id": "741e564d-2215-47cd-963c-0d293b48bdf5",
   "metadata": {},
   "outputs": [
    {
     "name": "stderr",
     "output_type": "stream",
     "text": [
      "                                                                                \r"
     ]
    }
   ],
   "source": [
    "csv_file_path = \"/tmp/data/Production_Crops_Livestock_E_All_Data.csv\"\n",
    "df = spark.read.csv(csv_file_path, inferSchema=True, header=True)"
   ]
  },
  {
   "cell_type": "code",
   "execution_count": 6,
   "id": "cebac173-9326-4927-9dcb-32bd985d23dd",
   "metadata": {},
   "outputs": [
    {
     "name": "stdout",
     "output_type": "stream",
     "text": [
      "root\n",
      " |-- Area Code: integer (nullable = true)\n",
      " |-- Area Code (M49): string (nullable = true)\n",
      " |-- Area: string (nullable = true)\n",
      " |-- Item Code: integer (nullable = true)\n",
      " |-- Item Code (CPC): string (nullable = true)\n",
      " |-- Item: string (nullable = true)\n",
      " |-- Element Code: integer (nullable = true)\n",
      " |-- Element: string (nullable = true)\n",
      " |-- Unit: string (nullable = true)\n",
      " |-- Y1961: double (nullable = true)\n",
      " |-- Y1961F: string (nullable = true)\n",
      " |-- Y1961N: string (nullable = true)\n",
      " |-- Y1962: double (nullable = true)\n",
      " |-- Y1962F: string (nullable = true)\n",
      " |-- Y1962N: string (nullable = true)\n",
      " |-- Y1963: double (nullable = true)\n",
      " |-- Y1963F: string (nullable = true)\n",
      " |-- Y1963N: string (nullable = true)\n",
      " |-- Y1964: double (nullable = true)\n",
      " |-- Y1964F: string (nullable = true)\n",
      " |-- Y1964N: string (nullable = true)\n",
      " |-- Y1965: double (nullable = true)\n",
      " |-- Y1965F: string (nullable = true)\n",
      " |-- Y1965N: string (nullable = true)\n",
      " |-- Y1966: double (nullable = true)\n",
      " |-- Y1966F: string (nullable = true)\n",
      " |-- Y1966N: string (nullable = true)\n",
      " |-- Y1967: double (nullable = true)\n",
      " |-- Y1967F: string (nullable = true)\n",
      " |-- Y1967N: string (nullable = true)\n",
      " |-- Y1968: double (nullable = true)\n",
      " |-- Y1968F: string (nullable = true)\n",
      " |-- Y1968N: string (nullable = true)\n",
      " |-- Y1969: double (nullable = true)\n",
      " |-- Y1969F: string (nullable = true)\n",
      " |-- Y1969N: string (nullable = true)\n",
      " |-- Y1970: double (nullable = true)\n",
      " |-- Y1970F: string (nullable = true)\n",
      " |-- Y1970N: string (nullable = true)\n",
      " |-- Y1971: double (nullable = true)\n",
      " |-- Y1971F: string (nullable = true)\n",
      " |-- Y1971N: string (nullable = true)\n",
      " |-- Y1972: double (nullable = true)\n",
      " |-- Y1972F: string (nullable = true)\n",
      " |-- Y1972N: string (nullable = true)\n",
      " |-- Y1973: double (nullable = true)\n",
      " |-- Y1973F: string (nullable = true)\n",
      " |-- Y1973N: string (nullable = true)\n",
      " |-- Y1974: double (nullable = true)\n",
      " |-- Y1974F: string (nullable = true)\n",
      " |-- Y1974N: string (nullable = true)\n",
      " |-- Y1975: double (nullable = true)\n",
      " |-- Y1975F: string (nullable = true)\n",
      " |-- Y1975N: string (nullable = true)\n",
      " |-- Y1976: double (nullable = true)\n",
      " |-- Y1976F: string (nullable = true)\n",
      " |-- Y1976N: string (nullable = true)\n",
      " |-- Y1977: double (nullable = true)\n",
      " |-- Y1977F: string (nullable = true)\n",
      " |-- Y1977N: string (nullable = true)\n",
      " |-- Y1978: double (nullable = true)\n",
      " |-- Y1978F: string (nullable = true)\n",
      " |-- Y1978N: string (nullable = true)\n",
      " |-- Y1979: double (nullable = true)\n",
      " |-- Y1979F: string (nullable = true)\n",
      " |-- Y1979N: string (nullable = true)\n",
      " |-- Y1980: double (nullable = true)\n",
      " |-- Y1980F: string (nullable = true)\n",
      " |-- Y1980N: string (nullable = true)\n",
      " |-- Y1981: double (nullable = true)\n",
      " |-- Y1981F: string (nullable = true)\n",
      " |-- Y1981N: string (nullable = true)\n",
      " |-- Y1982: double (nullable = true)\n",
      " |-- Y1982F: string (nullable = true)\n",
      " |-- Y1982N: string (nullable = true)\n",
      " |-- Y1983: double (nullable = true)\n",
      " |-- Y1983F: string (nullable = true)\n",
      " |-- Y1983N: string (nullable = true)\n",
      " |-- Y1984: double (nullable = true)\n",
      " |-- Y1984F: string (nullable = true)\n",
      " |-- Y1984N: string (nullable = true)\n",
      " |-- Y1985: double (nullable = true)\n",
      " |-- Y1985F: string (nullable = true)\n",
      " |-- Y1985N: string (nullable = true)\n",
      " |-- Y1986: double (nullable = true)\n",
      " |-- Y1986F: string (nullable = true)\n",
      " |-- Y1986N: string (nullable = true)\n",
      " |-- Y1987: double (nullable = true)\n",
      " |-- Y1987F: string (nullable = true)\n",
      " |-- Y1987N: string (nullable = true)\n",
      " |-- Y1988: double (nullable = true)\n",
      " |-- Y1988F: string (nullable = true)\n",
      " |-- Y1988N: string (nullable = true)\n",
      " |-- Y1989: double (nullable = true)\n",
      " |-- Y1989F: string (nullable = true)\n",
      " |-- Y1989N: string (nullable = true)\n",
      " |-- Y1990: double (nullable = true)\n",
      " |-- Y1990F: string (nullable = true)\n",
      " |-- Y1990N: string (nullable = true)\n",
      " |-- Y1991: double (nullable = true)\n",
      " |-- Y1991F: string (nullable = true)\n",
      " |-- Y1991N: string (nullable = true)\n",
      " |-- Y1992: double (nullable = true)\n",
      " |-- Y1992F: string (nullable = true)\n",
      " |-- Y1992N: string (nullable = true)\n",
      " |-- Y1993: double (nullable = true)\n",
      " |-- Y1993F: string (nullable = true)\n",
      " |-- Y1993N: string (nullable = true)\n",
      " |-- Y1994: double (nullable = true)\n",
      " |-- Y1994F: string (nullable = true)\n",
      " |-- Y1994N: string (nullable = true)\n",
      " |-- Y1995: double (nullable = true)\n",
      " |-- Y1995F: string (nullable = true)\n",
      " |-- Y1995N: string (nullable = true)\n",
      " |-- Y1996: double (nullable = true)\n",
      " |-- Y1996F: string (nullable = true)\n",
      " |-- Y1996N: string (nullable = true)\n",
      " |-- Y1997: double (nullable = true)\n",
      " |-- Y1997F: string (nullable = true)\n",
      " |-- Y1997N: string (nullable = true)\n",
      " |-- Y1998: double (nullable = true)\n",
      " |-- Y1998F: string (nullable = true)\n",
      " |-- Y1998N: string (nullable = true)\n",
      " |-- Y1999: double (nullable = true)\n",
      " |-- Y1999F: string (nullable = true)\n",
      " |-- Y1999N: string (nullable = true)\n",
      " |-- Y2000: double (nullable = true)\n",
      " |-- Y2000F: string (nullable = true)\n",
      " |-- Y2000N: string (nullable = true)\n",
      " |-- Y2001: double (nullable = true)\n",
      " |-- Y2001F: string (nullable = true)\n",
      " |-- Y2001N: string (nullable = true)\n",
      " |-- Y2002: double (nullable = true)\n",
      " |-- Y2002F: string (nullable = true)\n",
      " |-- Y2002N: string (nullable = true)\n",
      " |-- Y2003: double (nullable = true)\n",
      " |-- Y2003F: string (nullable = true)\n",
      " |-- Y2003N: string (nullable = true)\n",
      " |-- Y2004: double (nullable = true)\n",
      " |-- Y2004F: string (nullable = true)\n",
      " |-- Y2004N: string (nullable = true)\n",
      " |-- Y2005: double (nullable = true)\n",
      " |-- Y2005F: string (nullable = true)\n",
      " |-- Y2005N: string (nullable = true)\n",
      " |-- Y2006: double (nullable = true)\n",
      " |-- Y2006F: string (nullable = true)\n",
      " |-- Y2006N: string (nullable = true)\n",
      " |-- Y2007: double (nullable = true)\n",
      " |-- Y2007F: string (nullable = true)\n",
      " |-- Y2007N: string (nullable = true)\n",
      " |-- Y2008: double (nullable = true)\n",
      " |-- Y2008F: string (nullable = true)\n",
      " |-- Y2008N: string (nullable = true)\n",
      " |-- Y2009: double (nullable = true)\n",
      " |-- Y2009F: string (nullable = true)\n",
      " |-- Y2009N: string (nullable = true)\n",
      " |-- Y2010: double (nullable = true)\n",
      " |-- Y2010F: string (nullable = true)\n",
      " |-- Y2010N: string (nullable = true)\n",
      " |-- Y2011: double (nullable = true)\n",
      " |-- Y2011F: string (nullable = true)\n",
      " |-- Y2011N: string (nullable = true)\n",
      " |-- Y2012: double (nullable = true)\n",
      " |-- Y2012F: string (nullable = true)\n",
      " |-- Y2012N: string (nullable = true)\n",
      " |-- Y2013: double (nullable = true)\n",
      " |-- Y2013F: string (nullable = true)\n",
      " |-- Y2013N: string (nullable = true)\n",
      " |-- Y2014: double (nullable = true)\n",
      " |-- Y2014F: string (nullable = true)\n",
      " |-- Y2014N: string (nullable = true)\n",
      " |-- Y2015: double (nullable = true)\n",
      " |-- Y2015F: string (nullable = true)\n",
      " |-- Y2015N: string (nullable = true)\n",
      " |-- Y2016: double (nullable = true)\n",
      " |-- Y2016F: string (nullable = true)\n",
      " |-- Y2016N: string (nullable = true)\n",
      " |-- Y2017: double (nullable = true)\n",
      " |-- Y2017F: string (nullable = true)\n",
      " |-- Y2017N: string (nullable = true)\n",
      " |-- Y2018: double (nullable = true)\n",
      " |-- Y2018F: string (nullable = true)\n",
      " |-- Y2018N: string (nullable = true)\n",
      " |-- Y2019: double (nullable = true)\n",
      " |-- Y2019F: string (nullable = true)\n",
      " |-- Y2019N: string (nullable = true)\n",
      " |-- Y2020: double (nullable = true)\n",
      " |-- Y2020F: string (nullable = true)\n",
      " |-- Y2020N: string (nullable = true)\n",
      " |-- Y2021: double (nullable = true)\n",
      " |-- Y2021F: string (nullable = true)\n",
      " |-- Y2021N: string (nullable = true)\n",
      " |-- Y2022: double (nullable = true)\n",
      " |-- Y2022F: string (nullable = true)\n",
      " |-- Y2022N: string (nullable = true)\n",
      "\n"
     ]
    }
   ],
   "source": [
    "df.printSchema()"
   ]
  },
  {
   "cell_type": "code",
   "execution_count": 7,
   "id": "88aee71b-51ae-4cb0-a76b-d51e85dbe2f9",
   "metadata": {},
   "outputs": [
    {
     "name": "stderr",
     "output_type": "stream",
     "text": [
      "24/10/31 15:41:48 WARN SparkStringUtils: Truncated the string representation of a plan since it was too large. This behavior can be adjusted by setting 'spark.sql.debug.maxToStringFields'.\n"
     ]
    },
    {
     "data": {
      "text/plain": [
       "[Row(Area Code=2, Area Code (M49)=\"'004\", Area='Afghanistan', Item Code=221, Item Code (CPC)=\"'01371\", Item='Almonds, in shell', Element Code=5312, Element='Area harvested', Unit='ha', Y1961=0.0, Y1961F='A', Y1961N=None, Y1962=0.0, Y1962F='A', Y1962N=None, Y1963=0.0, Y1963F='A', Y1963N=None, Y1964=0.0, Y1964F='A', Y1964N=None, Y1965=0.0, Y1965F='A', Y1965N=None, Y1966=0.0, Y1966F='A', Y1966N=None, Y1967=0.0, Y1967F='A', Y1967N=None, Y1968=0.0, Y1968F='A', Y1968N=None, Y1969=0.0, Y1969F='A', Y1969N=None, Y1970=0.0, Y1970F='A', Y1970N=None, Y1971=0.0, Y1971F='A', Y1971N=None, Y1972=0.0, Y1972F='A', Y1972N=None, Y1973=0.0, Y1973F='A', Y1973N=None, Y1974=0.0, Y1974F='A', Y1974N=None, Y1975=0.0, Y1975F='E', Y1975N=None, Y1976=5900.0, Y1976F='E', Y1976N=None, Y1977=6000.0, Y1977F='E', Y1977N=None, Y1978=6000.0, Y1978F='E', Y1978N=None, Y1979=6000.0, Y1979F='E', Y1979N=None, Y1980=5800.0, Y1980F='E', Y1980N=None, Y1981=5800.0, Y1981F='E', Y1981N=None, Y1982=5800.0, Y1982F='E', Y1982N=None, Y1983=5700.0, Y1983F='E', Y1983N=None, Y1984=5700.0, Y1984F='E', Y1984N=None, Y1985=5600.0, Y1985F='E', Y1985N=None, Y1986=5500.0, Y1986F='E', Y1986N=None, Y1987=5500.0, Y1987F='E', Y1987N=None, Y1988=5400.0, Y1988F='E', Y1988N=None, Y1989=5400.0, Y1989F='E', Y1989N=None, Y1990=6037.0, Y1990F='E', Y1990N=None, Y1991=5500.0, Y1991F='A', Y1991N=None, Y1992=5500.0, Y1992F='A', Y1992N=None, Y1993=5500.0, Y1993F='A', Y1993N=None, Y1994=5500.0, Y1994F='A', Y1994N=None, Y1995=5500.0, Y1995F='A', Y1995N=None, Y1996=5500.0, Y1996F='A', Y1996N=None, Y1997=5500.0, Y1997F='A', Y1997N=None, Y1998=5500.0, Y1998F='A', Y1998N=None, Y1999=5500.0, Y1999F='A', Y1999N=None, Y2000=7000.0, Y2000F='E', Y2000N=None, Y2001=9000.0, Y2001F='E', Y2001N=None, Y2002=5500.0, Y2002F='A', Y2002N=None, Y2003=5700.0, Y2003F='A', Y2003N=None, Y2004=12000.0, Y2004F='X', Y2004N='Unofficial figure', Y2005=11768.0, Y2005F='I', Y2005N=None, Y2006=12000.0, Y2006F='A', Y2006N=None, Y2007=12000.0, Y2007F='A', Y2007N=None, Y2008=12000.0, Y2008F='A', Y2008N=None, Y2009=11029.0, Y2009F='A', Y2009N=None, Y2010=11210.0, Y2010F='A', Y2010N=None, Y2011=13469.0, Y2011F='A', Y2011N=None, Y2012=13490.0, Y2012F='A', Y2012N=None, Y2013=14114.0, Y2013F='A', Y2013N=None, Y2014=13703.0, Y2014F='A', Y2014N=None, Y2015=14676.0, Y2015F='A', Y2015N=None, Y2016=19481.0, Y2016F='A', Y2016N=None, Y2017=19793.0, Y2017F='A', Y2017N=None, Y2018=20053.0, Y2018F='A', Y2018N=None, Y2019=29203.0, Y2019F='A', Y2019N=None, Y2020=22134.0, Y2020F='A', Y2020N=None, Y2021=36862.0, Y2021F='A', Y2021N=None, Y2022=37000.0, Y2022F='A', Y2022N=None)]"
      ]
     },
     "execution_count": 7,
     "metadata": {},
     "output_type": "execute_result"
    }
   ],
   "source": [
    "df.head(1)"
   ]
  },
  {
   "cell_type": "code",
   "execution_count": 13,
   "id": "5b15ae06-3a12-4294-a814-8bd9b57382c7",
   "metadata": {},
   "outputs": [
    {
     "name": "stdout",
     "output_type": "stream",
     "text": [
      "+--------------------+-----+\n",
      "|                Item|count|\n",
      "+--------------------+-----+\n",
      "|  Butter of cow milk|  161|\n",
      "|           Olive oil|   69|\n",
      "|           Whey, dry|   78|\n",
      "|Rapeseed or canol...|  105|\n",
      "|         Canary seed|   94|\n",
      "|Meat of other dom...|   21|\n",
      "|                Bees|  163|\n",
      "|             Turkeys|  124|\n",
      "| Sheep and Goat Meat|  703|\n",
      "|          Pineapples|  370|\n",
      "|            Potatoes|  606|\n",
      "|Roots and Tubers,...|  721|\n",
      "|Edible offals of ...|  233|\n",
      "|Peppermint, spear...|   73|\n",
      "|   Other pome fruits|   92|\n",
      "|Raw hides and ski...|  672|\n",
      "|Edible offal of b...|  115|\n",
      "|        Green garlic|  427|\n",
      "|       Coffee, green|  329|\n",
      "|Onions and shallo...|  303|\n",
      "+--------------------+-----+\n",
      "only showing top 20 rows\n",
      "\n"
     ]
    }
   ],
   "source": [
    "df.groupBy(\"Item\").count().show(20)"
   ]
  },
  {
   "cell_type": "code",
   "execution_count": 9,
   "id": "bd9a7ab6-282e-468e-a16e-411931c312c2",
   "metadata": {},
   "outputs": [
    {
     "name": "stdout",
     "output_type": "stream",
     "text": [
      "+---------------------------------------+\n",
      "|Area                                   |\n",
      "+---------------------------------------+\n",
      "|Afghanistan                            |\n",
      "|Afghanistan                            |\n",
      "|Afghanistan                            |\n",
      "|Algeria                                |\n",
      "|Algeria                                |\n",
      "|Algeria                                |\n",
      "|Argentina                              |\n",
      "|Argentina                              |\n",
      "|Argentina                              |\n",
      "|Armenia                                |\n",
      "|Armenia                                |\n",
      "|Australia                              |\n",
      "|Australia                              |\n",
      "|Australia                              |\n",
      "|Azerbaijan                             |\n",
      "|Azerbaijan                             |\n",
      "|Azerbaijan                             |\n",
      "|Belgium                                |\n",
      "|Belgium                                |\n",
      "|Bosnia and Herzegovina                 |\n",
      "|Bosnia and Herzegovina                 |\n",
      "|Bosnia and Herzegovina                 |\n",
      "|Brazil                                 |\n",
      "|Brazil                                 |\n",
      "|Bulgaria                               |\n",
      "|Bulgaria                               |\n",
      "|Bulgaria                               |\n",
      "|Burkina Faso                           |\n",
      "|Burkina Faso                           |\n",
      "|Burkina Faso                           |\n",
      "|Chile                                  |\n",
      "|Chile                                  |\n",
      "|Chile                                  |\n",
      "|China                                  |\n",
      "|China                                  |\n",
      "|China                                  |\n",
      "|China, mainland                        |\n",
      "|China, mainland                        |\n",
      "|China, mainland                        |\n",
      "|Côte d'Ivoire                          |\n",
      "|Côte d'Ivoire                          |\n",
      "|Côte d'Ivoire                          |\n",
      "|Croatia                                |\n",
      "|Croatia                                |\n",
      "|Croatia                                |\n",
      "|Cyprus                                 |\n",
      "|Cyprus                                 |\n",
      "|Cyprus                                 |\n",
      "|Estonia                                |\n",
      "|Estonia                                |\n",
      "|Eswatini                               |\n",
      "|Eswatini                               |\n",
      "|Eswatini                               |\n",
      "|Finland                                |\n",
      "|Finland                                |\n",
      "|France                                 |\n",
      "|France                                 |\n",
      "|France                                 |\n",
      "|Gambia                                 |\n",
      "|Gambia                                 |\n",
      "|Georgia                                |\n",
      "|Georgia                                |\n",
      "|Georgia                                |\n",
      "|Greece                                 |\n",
      "|Greece                                 |\n",
      "|Greece                                 |\n",
      "|Hungary                                |\n",
      "|Hungary                                |\n",
      "|Hungary                                |\n",
      "|Iran (Islamic Republic of)             |\n",
      "|Iran (Islamic Republic of)             |\n",
      "|Iran (Islamic Republic of)             |\n",
      "|Iraq                                   |\n",
      "|Iraq                                   |\n",
      "|Iraq                                   |\n",
      "|Ireland                                |\n",
      "|Ireland                                |\n",
      "|Israel                                 |\n",
      "|Israel                                 |\n",
      "|Israel                                 |\n",
      "|Italy                                  |\n",
      "|Italy                                  |\n",
      "|Italy                                  |\n",
      "|Jordan                                 |\n",
      "|Jordan                                 |\n",
      "|Jordan                                 |\n",
      "|Kazakhstan                             |\n",
      "|Kazakhstan                             |\n",
      "|Kazakhstan                             |\n",
      "|Kyrgyzstan                             |\n",
      "|Kyrgyzstan                             |\n",
      "|Kyrgyzstan                             |\n",
      "|Latvia                                 |\n",
      "|Latvia                                 |\n",
      "|Lebanon                                |\n",
      "|Lebanon                                |\n",
      "|Lebanon                                |\n",
      "|Libya                                  |\n",
      "|Libya                                  |\n",
      "|Libya                                  |\n",
      "|Lithuania                              |\n",
      "|Lithuania                              |\n",
      "|Luxembourg                             |\n",
      "|Luxembourg                             |\n",
      "|Malta                                  |\n",
      "|Malta                                  |\n",
      "|Mexico                                 |\n",
      "|Mexico                                 |\n",
      "|Mexico                                 |\n",
      "|Morocco                                |\n",
      "|Morocco                                |\n",
      "|Morocco                                |\n",
      "|Nepal                                  |\n",
      "|Nepal                                  |\n",
      "|Nepal                                  |\n",
      "|Netherlands (Kingdom of the)           |\n",
      "|Netherlands (Kingdom of the)           |\n",
      "|North Macedonia                        |\n",
      "|North Macedonia                        |\n",
      "|North Macedonia                        |\n",
      "|Pakistan                               |\n",
      "|Pakistan                               |\n",
      "|Pakistan                               |\n",
      "|Palestine                              |\n",
      "|Palestine                              |\n",
      "|Palestine                              |\n",
      "|Peru                                   |\n",
      "|Peru                                   |\n",
      "|Poland                                 |\n",
      "|Poland                                 |\n",
      "|Portugal                               |\n",
      "|Portugal                               |\n",
      "|Portugal                               |\n",
      "|Republic of Moldova                    |\n",
      "|Republic of Moldova                    |\n",
      "|Republic of Moldova                    |\n",
      "|Romania                                |\n",
      "|Romania                                |\n",
      "|Saudi Arabia                           |\n",
      "|Saudi Arabia                           |\n",
      "|Saudi Arabia                           |\n",
      "|Slovakia                               |\n",
      "|Slovakia                               |\n",
      "|Slovenia                               |\n",
      "|Slovenia                               |\n",
      "|Slovenia                               |\n",
      "|Spain                                  |\n",
      "|Spain                                  |\n",
      "|Spain                                  |\n",
      "|Sweden                                 |\n",
      "|Sweden                                 |\n",
      "|Syrian Arab Republic                   |\n",
      "|Syrian Arab Republic                   |\n",
      "|Syrian Arab Republic                   |\n",
      "|Tajikistan                             |\n",
      "|Tajikistan                             |\n",
      "|Tajikistan                             |\n",
      "|Tunisia                                |\n",
      "|Tunisia                                |\n",
      "|Tunisia                                |\n",
      "|Türkiye                                |\n",
      "|Türkiye                                |\n",
      "|Türkiye                                |\n",
      "|Turkmenistan                           |\n",
      "|Turkmenistan                           |\n",
      "|Turkmenistan                           |\n",
      "|Ukraine                                |\n",
      "|Ukraine                                |\n",
      "|Ukraine                                |\n",
      "|United Arab Emirates                   |\n",
      "|United Arab Emirates                   |\n",
      "|United Arab Emirates                   |\n",
      "|United States of America               |\n",
      "|United States of America               |\n",
      "|United States of America               |\n",
      "|USSR                                   |\n",
      "|USSR                                   |\n",
      "|USSR                                   |\n",
      "|Uzbekistan                             |\n",
      "|Uzbekistan                             |\n",
      "|Uzbekistan                             |\n",
      "|Yemen                                  |\n",
      "|Yemen                                  |\n",
      "|Yemen                                  |\n",
      "|Yugoslav SFR                           |\n",
      "|Yugoslav SFR                           |\n",
      "|Yugoslav SFR                           |\n",
      "|World                                  |\n",
      "|World                                  |\n",
      "|World                                  |\n",
      "|Africa                                 |\n",
      "|Africa                                 |\n",
      "|Africa                                 |\n",
      "|Northern Africa                        |\n",
      "|Northern Africa                        |\n",
      "|Northern Africa                        |\n",
      "|Southern Africa                        |\n",
      "|Southern Africa                        |\n",
      "|Southern Africa                        |\n",
      "|Western Africa                         |\n",
      "|Western Africa                         |\n",
      "|Western Africa                         |\n",
      "|Americas                               |\n",
      "|Americas                               |\n",
      "|Americas                               |\n",
      "|Northern America                       |\n",
      "|Northern America                       |\n",
      "|Northern America                       |\n",
      "|Central America                        |\n",
      "|Central America                        |\n",
      "|Central America                        |\n",
      "|South America                          |\n",
      "|South America                          |\n",
      "|South America                          |\n",
      "|Asia                                   |\n",
      "|Asia                                   |\n",
      "|Asia                                   |\n",
      "|Central Asia                           |\n",
      "|Central Asia                           |\n",
      "|Central Asia                           |\n",
      "|Eastern Asia                           |\n",
      "|Eastern Asia                           |\n",
      "|Eastern Asia                           |\n",
      "|Southern Asia                          |\n",
      "|Southern Asia                          |\n",
      "|Southern Asia                          |\n",
      "|Western Asia                           |\n",
      "|Western Asia                           |\n",
      "|Western Asia                           |\n",
      "|Europe                                 |\n",
      "|Europe                                 |\n",
      "|Europe                                 |\n",
      "|Eastern Europe                         |\n",
      "|Eastern Europe                         |\n",
      "|Eastern Europe                         |\n",
      "|Northern Europe                        |\n",
      "|Northern Europe                        |\n",
      "|Southern Europe                        |\n",
      "|Southern Europe                        |\n",
      "|Southern Europe                        |\n",
      "|Western Europe                         |\n",
      "|Western Europe                         |\n",
      "|Western Europe                         |\n",
      "|Oceania                                |\n",
      "|Oceania                                |\n",
      "|Oceania                                |\n",
      "|Australia and New Zealand              |\n",
      "|Australia and New Zealand              |\n",
      "|Australia and New Zealand              |\n",
      "|European Union (27)                    |\n",
      "|European Union (27)                    |\n",
      "|European Union (27)                    |\n",
      "|Least Developed Countries              |\n",
      "|Least Developed Countries              |\n",
      "|Least Developed Countries              |\n",
      "|Land Locked Developing Countries       |\n",
      "|Land Locked Developing Countries       |\n",
      "|Land Locked Developing Countries       |\n",
      "|Low Income Food Deficit Countries      |\n",
      "|Low Income Food Deficit Countries      |\n",
      "|Low Income Food Deficit Countries      |\n",
      "|Net Food Importing Developing Countries|\n",
      "|Net Food Importing Developing Countries|\n",
      "|Net Food Importing Developing Countries|\n",
      "+---------------------------------------+\n",
      "\n"
     ]
    }
   ],
   "source": [
    "df.filter(\"Item=='Almonds, in shell'\").select('Area').show(df.count(), False)"
   ]
  },
  {
   "cell_type": "markdown",
   "id": "1f4e5ad8-386e-430e-953d-d0a18e169319",
   "metadata": {},
   "source": [
    "## Element and Item codes and their meaning\n",
    "\n",
    "- As we could see from our data, each item has an **Element** and an **Item** column, let's see in more detail what this column means"
   ]
  },
  {
   "cell_type": "code",
   "execution_count": 10,
   "id": "2147fa37-82e0-482a-98f3-57907e30eb9d",
   "metadata": {},
   "outputs": [],
   "source": [
    "elements = spark.read.csv(\"data/elements.csv\", inferSchema=True, header=True)"
   ]
  },
  {
   "cell_type": "code",
   "execution_count": 11,
   "id": "44e10f7d-634e-4d5f-9258-1de8c9257f7d",
   "metadata": {},
   "outputs": [
    {
     "name": "stdout",
     "output_type": "stream",
     "text": [
      "root\n",
      " |-- Domain Code: string (nullable = true)\n",
      " |-- Domain: string (nullable = true)\n",
      " |-- Element Code: string (nullable = true)\n",
      " |-- Element: string (nullable = true)\n",
      " |-- Unit: string (nullable = true)\n",
      "\n"
     ]
    }
   ],
   "source": [
    "elements.printSchema()"
   ]
  },
  {
   "cell_type": "code",
   "execution_count": 12,
   "id": "6dfd838e-7aab-44a2-b34c-a28c321dd925",
   "metadata": {},
   "outputs": [
    {
     "data": {
      "text/plain": [
       "[Row(Domain Code='GCE', Domain='Climate Change: Agrifood systems emissions: Emissions from Crops', Element Code='5312', Element='Area harvested', Unit='ha'),\n",
       " Row(Domain Code='GCE', Domain='Climate Change: Agrifood systems emissions: Emissions from Crops', Element Code='7245', Element='Burning crop residues (Biomass burned, dry matter)', Unit='t'),\n",
       " Row(Domain Code='GCE', Domain='Climate Change: Agrifood systems emissions: Emissions from Crops', Element Code='72257', Element='Burning crop residues (Emissions CH4)', Unit='kt'),\n",
       " Row(Domain Code='GCE', Domain='Climate Change: Agrifood systems emissions: Emissions from Crops', Element Code='72307', Element='Burning crop residues (Emissions N2O)', Unit='kt'),\n",
       " Row(Domain Code='GCE', Domain='Climate Change: Agrifood systems emissions: Emissions from Crops', Element Code='72342', Element='Crop residues (Direct emissions N2O)', Unit='kt')]"
      ]
     },
     "execution_count": 12,
     "metadata": {},
     "output_type": "execute_result"
    }
   ],
   "source": [
    "elements.head(5)"
   ]
  },
  {
   "cell_type": "code",
   "execution_count": 14,
   "id": "489125ba-515a-4942-a270-d6890f9120ed",
   "metadata": {},
   "outputs": [],
   "source": [
    "items = spark.read.csv(\"data/item.csv\", inferSchema=True, header=True)"
   ]
  },
  {
   "cell_type": "code",
   "execution_count": 15,
   "id": "c1b82dc4-4969-47c1-b06f-5c9670fc39c6",
   "metadata": {},
   "outputs": [
    {
     "name": "stdout",
     "output_type": "stream",
     "text": [
      "root\n",
      " |-- Domain Code: string (nullable = true)\n",
      " |-- Domain: string (nullable = true)\n",
      " |-- Item Code: string (nullable = true)\n",
      " |-- Item: string (nullable = true)\n",
      " |-- Description: string (nullable = true)\n",
      " |-- CPC Code: string (nullable = true)\n",
      " |-- HS Code: string (nullable = true)\n",
      " |-- HS07 Code: string (nullable = true)\n",
      " |-- HS12 Code: string (nullable = true)\n",
      "\n"
     ]
    }
   ],
   "source": [
    "items.printSchema()"
   ]
  },
  {
   "cell_type": "code",
   "execution_count": 16,
   "id": "73c4d475-4611-4965-8a80-61306dc890b5",
   "metadata": {},
   "outputs": [
    {
     "data": {
      "text/plain": [
       "[Row(Domain Code='GCE', Domain='Climate Change: Agrifood systems emissions: Emissions from Crops', Item Code='1712', Item='All Crops', Description=None, CPC Code='F1712', HS Code=None, HS07 Code=None, HS12 Code=None),\n",
       " Row(Domain Code='GCE', Domain='Climate Change: Agrifood systems emissions: Emissions from Crops', Item Code='44', Item='Barley', Description='Barley', CPC Code='0115', HS Code=None, HS07 Code='100300', HS12 Code='100310, 100390'),\n",
       " Row(Domain Code='GCE', Domain='Climate Change: Agrifood systems emissions: Emissions from Crops', Item Code='176', Item='Beans, dry', Description='Beans, dry This subclass includes: -  beans, species of Phaseolus (vulgaris, lunatus, angularis, aureus, etc.) -  beans, species of Vigna (angularis, mungo, radiata, unguiculata, etc.) This subclass does not include: - soya beans, cf. 0141 - green beans, cf. 01241 - lentils, green, cf. 01249 -  bean shoots and sprouts, cf. 01290 - locust beans (carobs), cf. 01356 - castor beans, cf. 01449 -  broad beans and horse beans, dry, cf. 01702 - garbanzo beans (chickpeas), dry, cf. 01703 - lentils, dry, cf. 01704', CPC Code='01701', HS Code=None, HS07 Code='071331, 071332, 071333, 071339', HS12 Code='071331, 071332, 071333, 071339'),\n",
       " Row(Domain Code='GCE', Domain='Climate Change: Agrifood systems emissions: Emissions from Crops', Item Code='56', Item='Maize (corn)', Description='Maize (corn) This class includes: -  maize harvested for their dry grains only', CPC Code='0112', HS Code=None, HS07 Code='100510, 100590', HS12 Code='100510, 100590'),\n",
       " Row(Domain Code='GCE', Domain='Climate Change: Agrifood systems emissions: Emissions from Crops', Item Code='79', Item='Millet', Description='Millet', CPC Code='0118', HS Code=None, HS07 Code='100820', HS12 Code='100821, 100829')]"
      ]
     },
     "execution_count": 16,
     "metadata": {},
     "output_type": "execute_result"
    }
   ],
   "source": [
    "items.head(5)"
   ]
  },
  {
   "cell_type": "markdown",
   "id": "b712c3e5-9bb1-4fdc-a7f4-37b23871951e",
   "metadata": {},
   "source": [
    "## Year column\n",
    "\n",
    "- As we can see the **Year** column has values such as: Y2022, Y2022F, Y2022N\n",
    "- The **F** stands for Flag\n",
    "- The **N** stands for Notes, indicates additional notes for a specific year, indicating if there is something unusual about the data for that specific year\n",
    "- Given the first row of our data, we can observe **Y2004N: Unofficial figure** meaning this data was not reported by official data sources, it may have been provided from alternative sources or estimated"
   ]
  },
  {
   "cell_type": "code",
   "execution_count": 18,
   "id": "338f1770-f4f1-4a2f-ab20-7ff9aea4ef89",
   "metadata": {},
   "outputs": [],
   "source": [
    "flags = spark.read.csv(\"data/flags.csv\", inferSchema=True, header=True)"
   ]
  },
  {
   "cell_type": "code",
   "execution_count": 19,
   "id": "a65858cf-e3f6-45e5-afbb-838a55ad62b3",
   "metadata": {},
   "outputs": [
    {
     "name": "stdout",
     "output_type": "stream",
     "text": [
      "root\n",
      " |-- Flag: string (nullable = true)\n",
      " |-- Flags: string (nullable = true)\n",
      "\n"
     ]
    }
   ],
   "source": [
    "flags.printSchema()"
   ]
  },
  {
   "cell_type": "code",
   "execution_count": 20,
   "id": "0295aea6-cf54-4207-8eda-5095b6e02524",
   "metadata": {},
   "outputs": [
    {
     "data": {
      "text/plain": [
       "[Row(Flag='A', Flags='Official figure'),\n",
       " Row(Flag='B', Flags='Time series break'),\n",
       " Row(Flag='E', Flags='Estimated value'),\n",
       " Row(Flag='F', Flags='Forecast value'),\n",
       " Row(Flag='I', Flags='Imputed value')]"
      ]
     },
     "execution_count": 20,
     "metadata": {},
     "output_type": "execute_result"
    }
   ],
   "source": [
    "flags.head(5)"
   ]
  },
  {
   "cell_type": "code",
   "execution_count": 25,
   "id": "39818850-d79a-4a70-8326-83665669dbf1",
   "metadata": {},
   "outputs": [
    {
     "data": {
      "text/plain": [
       "'Unofficial figure'"
      ]
     },
     "execution_count": 25,
     "metadata": {},
     "output_type": "execute_result"
    }
   ],
   "source": [
    "df.head(1)[0][\"Y2004N\"]"
   ]
  },
  {
   "cell_type": "code",
   "execution_count": null,
   "id": "77558716-642b-4137-9d4b-4bad95533c9d",
   "metadata": {},
   "outputs": [],
   "source": []
  }
 ],
 "metadata": {
  "kernelspec": {
   "display_name": "Python 3 (ipykernel)",
   "language": "python",
   "name": "python3"
  },
  "language_info": {
   "codemirror_mode": {
    "name": "ipython",
    "version": 3
   },
   "file_extension": ".py",
   "mimetype": "text/x-python",
   "name": "python",
   "nbconvert_exporter": "python",
   "pygments_lexer": "ipython3",
   "version": "3.11.9"
  }
 },
 "nbformat": 4,
 "nbformat_minor": 5
}
